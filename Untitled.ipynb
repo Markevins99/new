{
 "cells": [
  {
   "cell_type": "code",
   "execution_count": 2,
   "id": "ce3ea61d",
   "metadata": {},
   "outputs": [
    {
     "name": "stdout",
     "output_type": "stream",
     "text": [
      "Best individual: [1 1 1 1 1 1 1 1 1 1]\n"
     ]
    }
   ],
   "source": [
    "import random\n",
    "import numpy as np\n",
    "\n",
    "\n",
    "def fitness_function(individual):\n",
    " \n",
    "    return np.sum(individual)\n",
    "\n",
    "def genetic_algorithm(population_size, individual_size, generations):\n",
    "    \n",
    "    population = np.random.randint(0, 2, size=(population_size, individual_size))\n",
    "    \n",
    "    \n",
    "    for generation in range(generations):\n",
    "        \n",
    "        fitness_values = [fitness_function(individual) for individual in population]\n",
    "        \n",
    "        \n",
    "        parent_indices = np.random.choice(len(population), size=population_size, replace=True, p=fitness_values / np.sum(fitness_values))\n",
    "        parents = population[parent_indices]\n",
    "        \n",
    "        \n",
    "        offspring = np.zeros_like(parents)\n",
    "        for i in range(len(offspring)):\n",
    "            \n",
    "            crossover_point = random.randint(1, individual_size - 1)\n",
    "            offspring[i, :crossover_point] = parents[i % len(parents), :crossover_point]\n",
    "            offspring[i, crossover_point:] = parents[(i+1) % len(parents), crossover_point:]\n",
    "            \n",
    "            for j in range(individual_size):\n",
    "                if random.random() < 0.01:\n",
    "                    offspring[i, j] = 1 - offspring[i, j]\n",
    "        \n",
    "        population = offspring\n",
    "        \n",
    "    fitness_values = [fitness_function(individual) for individual in population]\n",
    "    best_individual = population[np.argmax(fitness_values)]\n",
    "    return best_individual\n",
    "\n",
    "\n",
    "best_individual = genetic_algorithm(population_size=100, individual_size=10, generations=100)\n",
    "print(\"Best individual:\", best_individual)\n"
   ]
  },
  {
   "cell_type": "code",
   "execution_count": 3,
   "id": "0857523f",
   "metadata": {},
   "outputs": [
    {
     "name": "stdout",
     "output_type": "stream",
     "text": [
      "[[ 0.51958132 -3.16031252 -3.47166077 -0.92814809  3.40201516 -2.18989348]\n",
      " [-0.62207402  1.13350237 -0.02638513 -3.79923237  1.56229204  3.3472614 ]\n",
      " [ 0.79755439  0.64330147  2.68238593  2.66270723 -2.50594778 -0.62160682]\n",
      " [ 2.55415826  1.87867173  2.75510428 -2.96445353 -0.48426351  1.67162574]\n",
      " [ 1.84129004 -3.42556066  1.69552285  1.00982767 -1.20869537 -1.56713121]\n",
      " [-3.7679252  -0.86408148 -1.54403914 -0.54798903  1.66996493 -2.83614474]\n",
      " [-0.16030055  2.34282631 -2.01092327  2.90947508  3.46367571 -3.09728313]\n",
      " [-3.07439604  1.16161597  0.13751991  3.22862059  2.41561524  0.01514049]]\n",
      "Generation :  0\n"
     ]
    },
    {
     "ename": "AttributeError",
     "evalue": "module 'ga' has no attribute 'cal_pop_fitness'",
     "output_type": "error",
     "traceback": [
      "\u001b[1;31m---------------------------------------------------------------------------\u001b[0m",
      "\u001b[1;31mAttributeError\u001b[0m                            Traceback (most recent call last)",
      "Input \u001b[1;32mIn [3]\u001b[0m, in \u001b[0;36m<cell line: 20>\u001b[1;34m()\u001b[0m\n\u001b[0;32m     20\u001b[0m \u001b[38;5;28;01mfor\u001b[39;00m generation \u001b[38;5;129;01min\u001b[39;00m \u001b[38;5;28mrange\u001b[39m(num_generations):\n\u001b[0;32m     21\u001b[0m     \u001b[38;5;28mprint\u001b[39m(\u001b[38;5;124m\"\u001b[39m\u001b[38;5;124mGeneration : \u001b[39m\u001b[38;5;124m\"\u001b[39m, generation)\n\u001b[1;32m---> 23\u001b[0m     fitness \u001b[38;5;241m=\u001b[39m \u001b[43mga\u001b[49m\u001b[38;5;241;43m.\u001b[39;49m\u001b[43mcal_pop_fitness\u001b[49m(equation_inputs, new_population)\n\u001b[0;32m     24\u001b[0m     \u001b[38;5;28mprint\u001b[39m(\u001b[38;5;124m\"\u001b[39m\u001b[38;5;124mFitness\u001b[39m\u001b[38;5;124m\"\u001b[39m)\n\u001b[0;32m     25\u001b[0m     \u001b[38;5;28mprint\u001b[39m(fitness)\n",
      "\u001b[1;31mAttributeError\u001b[0m: module 'ga' has no attribute 'cal_pop_fitness'"
     ]
    }
   ],
   "source": [
    "import numpy\n",
    "import ga\n",
    "\n",
    "\n",
    "equation_inputs = [4,-2,3.5,5,-11,-4.7]\n",
    "\n",
    "num_weights = len(equation_inputs)\n",
    "\n",
    "\n",
    "sol_per_pop = 8\n",
    "num_parents_mating = 4\n",
    "\n",
    "pop_size = (sol_per_pop,num_weights) \n",
    "new_population = numpy.random.uniform(low=-4.0, high=4.0, size=pop_size)\n",
    "print(new_population)\n",
    "\n",
    "\n",
    "best_outputs = []\n",
    "num_generations = 1000\n",
    "for generation in range(num_generations):\n",
    "    print(\"Generation : \", generation)\n",
    "    \n",
    "    fitness = ga.cal_pop_fitness(equation_inputs, new_population)\n",
    "    print(\"Fitness\")\n",
    "    print(fitness)\n",
    "\n",
    "    best_outputs.append(numpy.max(numpy.sum(new_population*equation_inputs, axis=1)))\n",
    "    \n",
    "    print(\"Best result : \", numpy.max(numpy.sum(new_population*equation_inputs, axis=1)))\n",
    "    \n",
    "    \n",
    "    parents = ga.select_mating_pool(new_population, fitness, \n",
    "                                      num_parents_mating)\n",
    "    print(\"Parents\")\n",
    "    print(parents)\n",
    "\n",
    "    \n",
    "    offspring_crossover = ga.crossover(parents,\n",
    "                                       offspring_size=(pop_size[0]-parents.shape[0], num_weights))\n",
    "    print(\"Crossover\")\n",
    "    print(offspring_crossover)\n",
    "\n",
    "    \n",
    "    offspring_mutation = ga.mutation(offspring_crossover, num_mutations=2)\n",
    "    print(\"Mutation\")\n",
    "    print(offspring_mutation)\n",
    "\n",
    "    \n",
    "    new_population[0:parents.shape[0], :] = parents\n",
    "    new_population[parents.shape[0]:, :] = offspring_mutation\n",
    "    \n",
    "\n",
    "fitness = ga.cal_pop_fitness(equation_inputs, new_population)\n",
    "\n",
    "best_match_idx = numpy.where(fitness == numpy.max(fitness))\n",
    "\n",
    "print(\"Best solution : \", new_population[best_match_idx, :])\n",
    "print(\"Best solution fitness : \", fitness[best_match_idx])\n",
    "\n",
    "\n",
    "import matplotlib.pyplot\n",
    "matplotlib.pyplot.plot(best_outputs)\n",
    "matplotlib.pyplot.xlabel(\"Iteration\")\n",
    "matplotlib.pyplot.ylabel(\"Fitness\")\n",
    "matplotlib.pyplot.show()"
   ]
  },
  {
   "cell_type": "code",
   "execution_count": null,
   "id": "456dd399",
   "metadata": {},
   "outputs": [],
   "source": []
  }
 ],
 "metadata": {
  "kernelspec": {
   "display_name": "Python 3 (ipykernel)",
   "language": "python",
   "name": "python3"
  },
  "language_info": {
   "codemirror_mode": {
    "name": "ipython",
    "version": 3
   },
   "file_extension": ".py",
   "mimetype": "text/x-python",
   "name": "python",
   "nbconvert_exporter": "python",
   "pygments_lexer": "ipython3",
   "version": "3.10.6"
  }
 },
 "nbformat": 4,
 "nbformat_minor": 5
}
