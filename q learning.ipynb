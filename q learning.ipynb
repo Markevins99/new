{
 "cells": [
  {
   "cell_type": "code",
   "execution_count": 2,
   "id": "52d13d4b",
   "metadata": {},
   "outputs": [
    {
     "name": "stdout",
     "output_type": "stream",
     "text": [
      "[[ 0  0  0  0 93  0]\n",
      " [ 0  0  0 88  0 99]\n",
      " [ 0  0  0 88  0  0]\n",
      " [ 0 93 83  0 93  0]\n",
      " [88  0  0 88  0 99]\n",
      " [ 0  0  0  0  0  0]]\n"
     ]
    }
   ],
   "source": [
    "import numpy as np\n",
    "\n",
    "\n",
    "R = np.array([[-1, -1, -1, -1, 0, -1],\n",
    "              [-1, -1, -1, 0, -1, 100],\n",
    "              [-1, -1, -1, 0, -1, -1],\n",
    "              [-1, 0, 0, -1, 0, -1],\n",
    "              [0, -1, -1, 0, -1, 100],\n",
    "              [-1, 0, -1, -1, 0, 100]])\n",
    "\n",
    "Q = np.zeros_like(R)\n",
    "\n",
    "alpha = 0.8\n",
    "gamma = 0.95\n",
    "n_episodes = 1000\n",
    "\n",
    "\n",
    "for episode in range(n_episodes):\n",
    "    state = np.random.randint(0, 6)\n",
    "    while state != 5:\n",
    "        action = np.random.choice(np.where(R[state, :] != -1)[0])\n",
    "        next_state = action\n",
    "        Q[state, action] = Q[state, action] + alpha * (R[state, action] + gamma * np.max(Q[next_state, :]) - Q[state, action])\n",
    "        state = next_state\n",
    "\n",
    "\n",
    "print(Q)\n"
   ]
  },
  {
   "cell_type": "code",
   "execution_count": null,
   "id": "002909c1",
   "metadata": {},
   "outputs": [],
   "source": []
  }
 ],
 "metadata": {
  "kernelspec": {
   "display_name": "Python 3 (ipykernel)",
   "language": "python",
   "name": "python3"
  },
  "language_info": {
   "codemirror_mode": {
    "name": "ipython",
    "version": 3
   },
   "file_extension": ".py",
   "mimetype": "text/x-python",
   "name": "python",
   "nbconvert_exporter": "python",
   "pygments_lexer": "ipython3",
   "version": "3.10.6"
  }
 },
 "nbformat": 4,
 "nbformat_minor": 5
}
